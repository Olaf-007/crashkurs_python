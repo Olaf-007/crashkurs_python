{
  "nbformat": 4,
  "nbformat_minor": 0,
  "metadata": {
    "colab": {
      "provenance": [],
      "include_colab_link": true
    },
    "kernelspec": {
      "name": "python3",
      "display_name": "Python 3"
    },
    "language_info": {
      "name": "python"
    }
  },
  "cells": [
    {
      "cell_type": "markdown",
      "metadata": {
        "id": "view-in-github",
        "colab_type": "text"
      },
      "source": [
        "<a href=\"https://colab.research.google.com/github/Olaf-007/crashkurs_python/blob/main/Tag1.ipynb\" target=\"_parent\"><img src=\"https://colab.research.google.com/assets/colab-badge.svg\" alt=\"Open In Colab\"/></a>"
      ]
    },
    {
      "cell_type": "code",
      "execution_count": 2,
      "metadata": {
        "id": "0ZGPjSmc-8F3",
        "colab": {
          "base_uri": "https://localhost:8080/"
        },
        "outputId": "cdc94330-179c-4b7e-e242-739e0b48e855"
      },
      "outputs": [
        {
          "output_type": "stream",
          "name": "stdout",
          "text": [
            "Bla\n"
          ]
        }
      ],
      "source": [
        "import numpy as np\n",
        "import matplotlib.pyplot as plt\n",
        "\n",
        "print(\"Bla\")"
      ]
    },
    {
      "cell_type": "markdown",
      "source": [
        "Warum? Hier ist *die* Erklärung.\n",
        "\n",
        "$\\sum_8^6$\n",
        "\n",
        "```python\n",
        "print(\"Hello World\",7)\n",
        "```\n",
        "\n",
        "![test.jpg]()"
      ],
      "metadata": {
        "id": "ERosIw0j_XW1"
      }
    },
    {
      "cell_type": "code",
      "source": [
        "# prompt: plot a cross on a matplotlib graph, make backrground blue to yellow\n",
        "\n",
        "import numpy as np\n",
        "import matplotlib.pyplot as plt\n",
        "import matplotlib.cm as cm\n",
        "\n",
        "# Create a figure and axes\n",
        "fig, ax = plt.subplots()\n",
        "\n",
        "# Plot a cross\n",
        "ax.plot([0, 1], [0.5, 0.5], color='black', linewidth=2)\n",
        "ax.plot([0.5, 0.5], [0, 1], color='black', linewidth=2)\n",
        "\n",
        "\n",
        "# Set the background color to a gradient from blue to yellow\n",
        "gradient = np.linspace(0, 1, 256)\n",
        "cmap = cm.get_cmap('viridis')\n",
        "for i in range(256):\n",
        "    ax.axvspan(i / 256, (i + 1) / 256, facecolor=cmap(gradient[i]), alpha=1)\n",
        "\n",
        "\n",
        "# Customize the plot\n",
        "ax.set_xlim([0, 1])\n",
        "ax.set_ylim([0, 1])\n",
        "ax.set_aspect('equal')\n",
        "plt.show()"
      ],
      "metadata": {
        "id": "7FoJV7ou_TaD",
        "colab": {
          "base_uri": "https://localhost:8080/",
          "height": 490
        },
        "outputId": "5afa3b74-c539-4db0-efe1-123723b3d897"
      },
      "execution_count": 4,
      "outputs": [
        {
          "output_type": "stream",
          "name": "stderr",
          "text": [
            "<ipython-input-4-915330ea9d33>:17: MatplotlibDeprecationWarning: The get_cmap function was deprecated in Matplotlib 3.7 and will be removed two minor releases later. Use ``matplotlib.colormaps[name]`` or ``matplotlib.colormaps.get_cmap(obj)`` instead.\n",
            "  cmap = cm.get_cmap('viridis')\n"
          ]
        },
        {
          "output_type": "display_data",
          "data": {
            "text/plain": [
              "<Figure size 640x480 with 1 Axes>"
            ],
            "image/png": "[encoded data removed]"
          },
          "metadata": {}
        }
      ]
    },
    {
      "cell_type": "code",
      "source": [],
      "metadata": {
        "id": "RVFEt6hXfWZM"
      },
      "execution_count": null,
      "outputs": []
    }
  ]
}