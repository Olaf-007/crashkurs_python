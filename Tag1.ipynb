{
  "nbformat": 4,
  "nbformat_minor": 0,
  "metadata": {
    "colab": {
      "provenance": []
    },
    "kernelspec": {
      "name": "python3",
      "display_name": "Python 3"
    },
    "language_info": {
      "name": "python"
    }
  },
  "cells": [
    {
      "cell_type": "code",
      "execution_count": null,
      "metadata": {
        "id": "0ZGPjSmc-8F3"
      },
      "outputs": [],
      "source": [
        "import numpy as np\n",
        "import matplotlib.pyplot as plt\n",
        "\n",
        "print(\"Bla\")\n",
        "euihei"
      ]
    },
    {
      "cell_type": "markdown",
      "source": [
        "Warum? Hier ist *die* Erklärung.\n",
        "\n",
        "$\\sum_8^6$\n",
        "\n",
        "---\n",
        "\n",
        "\n",
        "\n",
        "```python\n",
        "print(\"Hello World\",7)\n",
        "```\n",
        "\n"
      ],
      "metadata": {
        "id": "ERosIw0j_XW1"
      }
    },
    {
      "cell_type": "code",
      "source": [],
      "metadata": {
        "id": "7FoJV7ou_TaD"
      },
      "execution_count": null,
      "outputs": []
    }
  ]
}